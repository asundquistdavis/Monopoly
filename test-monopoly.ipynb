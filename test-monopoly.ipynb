{
 "cells": [
  {
   "cell_type": "code",
   "execution_count": 1,
   "id": "62bd4685",
   "metadata": {},
   "outputs": [],
   "source": [
    "from monopoly import Game, Human, AI\n",
    "g = Game(Human('Andrew'), AI())"
   ]
  },
  {
   "cell_type": "code",
   "execution_count": 2,
   "id": "6ed74284",
   "metadata": {},
   "outputs": [
    {
     "data": {
      "text/plain": [
       "[Andrew is a human, AI#0 is an ai]"
      ]
     },
     "execution_count": 2,
     "metadata": {},
     "output_type": "execute_result"
    }
   ],
   "source": [
    "g.players"
   ]
  },
  {
   "cell_type": "code",
   "execution_count": 3,
   "id": "96e72551",
   "metadata": {},
   "outputs": [
    {
     "name": "stdout",
     "output_type": "stream",
     "text": [
      "Rolled: 3 and 4\n",
      "Andrew is at Chance 1\n",
      "Go to jail\n",
      "Andrew is at Go to Jail\n",
      "Rolled: 6 and 4\n",
      "AI#0 is at Just Visiting\n"
     ]
    }
   ],
   "source": [
    "g.play_turn()"
   ]
  },
  {
   "cell_type": "code",
   "execution_count": 4,
   "id": "8e5f8b6d",
   "metadata": {
    "scrolled": true
   },
   "outputs": [
    {
     "name": "stdout",
     "output_type": "stream",
     "text": [
      "Andrew @ 10 has 1500M with []\n",
      "\n",
      "AI#0 @ 10 has 1500M with []\n",
      "\n"
     ]
    }
   ],
   "source": [
    "for player in g.players:\n",
    "    print(player.status())"
   ]
  },
  {
   "cell_type": "code",
   "execution_count": null,
   "id": "6dc34bd3",
   "metadata": {},
   "outputs": [],
   "source": []
  }
 ],
 "metadata": {
  "kernelspec": {
   "display_name": "Python 3 (ipykernel)",
   "language": "python",
   "name": "python3"
  },
  "language_info": {
   "codemirror_mode": {
    "name": "ipython",
    "version": 3
   },
   "file_extension": ".py",
   "mimetype": "text/x-python",
   "name": "python",
   "nbconvert_exporter": "python",
   "pygments_lexer": "ipython3",
   "version": "3.8.13"
  }
 },
 "nbformat": 4,
 "nbformat_minor": 5
}
