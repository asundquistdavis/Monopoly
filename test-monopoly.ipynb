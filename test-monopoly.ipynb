{
 "cells": [
  {
   "cell_type": "code",
   "execution_count": 1,
   "id": "fbddf153",
   "metadata": {},
   "outputs": [],
   "source": [
    "from monopoly import Game, Human, AI\n",
    "g = Game(Human('Andrew'), AI())"
   ]
  },
  {
   "cell_type": "code",
   "execution_count": 2,
   "id": "5f10c067",
   "metadata": {},
   "outputs": [
    {
     "data": {
      "text/plain": [
       "[Andrew is a human, AI#0 is an ai]"
      ]
     },
     "execution_count": 2,
     "metadata": {},
     "output_type": "execute_result"
    }
   ],
   "source": [
    "g.players"
   ]
  },
  {
   "cell_type": "code",
   "execution_count": 12,
   "id": "55b406f7",
   "metadata": {},
   "outputs": [
    {
     "name": "stdout",
     "output_type": "stream",
     "text": [
      "Doubles! Rolled: 6 and 6\n",
      "Andrew is at Go to Jail\n",
      "Rolled: 6 and 5\n",
      "AI#0 is at Illinois Avenue\n",
      "AI#0's balance is -84. Select a property to mortgage:\n",
      "Electric Company for 75.0\n",
      "Tennessee Avenue for 90.0\n",
      "Ventnor Avenue for 130.0\n",
      "North Carolina Avenue for 150.0\n",
      "Boardwalk for 200.0\n",
      "Oriental Avenue for 50.0\n",
      "States Avenue for 70.0\n",
      "Illinois Avenue for 120.0\n",
      "Electric Company\n",
      "AI#0's balance is -9. Select a property to mortgage:\n",
      "Electric Company for 75.0\n",
      "Tennessee Avenue for 90.0\n",
      "Ventnor Avenue for 130.0\n",
      "North Carolina Avenue for 150.0\n",
      "Boardwalk for 200.0\n",
      "Oriental Avenue for 50.0\n",
      "States Avenue for 70.0\n",
      "Illinois Avenue for 120.0\n",
      "Illinois Avenue\n",
      "Andrew @ 10 has 589M with [Pennslyvania Railroad, Indiana Avenue, Marvin Gardens, Park Place, Mediterranean Avenue]\n",
      "\n",
      "AI#0 @ 24 has 111M with [Electric Company, Tennessee Avenue, Ventnor Avenue, North Carolina Avenue, Boardwalk, Oriental Avenue, States Avenue, Illinois Avenue]\n",
      "\n"
     ]
    }
   ],
   "source": [
    "g.play_round()\n",
    "for player in g.players:\n",
    "    print(player.status())"
   ]
  },
  {
   "cell_type": "code",
   "execution_count": null,
   "id": "9cbf55c9",
   "metadata": {},
   "outputs": [],
   "source": [
    "g.ch_cards"
   ]
  },
  {
   "cell_type": "code",
   "execution_count": null,
   "id": "ced4d153",
   "metadata": {},
   "outputs": [],
   "source": []
  }
 ],
 "metadata": {
  "kernelspec": {
   "display_name": "Python 3 (ipykernel)",
   "language": "python",
   "name": "python3"
  },
  "language_info": {
   "codemirror_mode": {
    "name": "ipython",
    "version": 3
   },
   "file_extension": ".py",
   "mimetype": "text/x-python",
   "name": "python",
   "nbconvert_exporter": "python",
   "pygments_lexer": "ipython3",
   "version": "3.8.13"
  }
 },
 "nbformat": 4,
 "nbformat_minor": 5
}
